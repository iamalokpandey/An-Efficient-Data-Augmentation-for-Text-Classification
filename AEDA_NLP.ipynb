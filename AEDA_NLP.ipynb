{
  "cells": [
    {
      "cell_type": "code",
      "execution_count": null,
      "metadata": {
        "colab": {
          "base_uri": "https://localhost:8080/"
        },
        "id": "3dRO56IqUe1D",
        "outputId": "c51379f8-d6c1-4957-ffa9-fb4b4b4fb850"
      },
      "outputs": [
        {
          "output_type": "stream",
          "name": "stdout",
          "text": [
            "[nltk_data] Downloading package wordnet to /root/nltk_data...\n",
            "[nltk_data]   Package wordnet is already up-to-date!\n",
            "[nltk_data] Downloading package stopwords to /root/nltk_data...\n",
            "[nltk_data]   Package stopwords is already up-to-date!\n",
            "Mounted at /content/drive\n",
            "/content/drive/MyDrive/AEDA\n"
          ]
        }
      ],
      "source": [
        "# IMPORTS\n",
        "\n",
        "import os.path\n",
        "\n",
        "import random\n",
        "from random import shuffle\n",
        "import numpy as np\n",
        "import pandas as pd\n",
        "random.seed(0)   # Makes sure we have same random initial values\n",
        "import sklearn\n",
        "from sklearn.feature_extraction.text import CountVectorizer  \n",
        "from sklearn.preprocessing import OneHotEncoder  \n",
        "\n",
        "# Model\n",
        "from keras.models import Sequential\n",
        "from keras import layers\n",
        "from keras.preprocessing.text import Tokenizer\n",
        "from keras.preprocessing.sequence import pad_sequences\n",
        "import tensorflow as tf\n",
        "\n",
        "import nltk\n",
        "\n",
        "nltk.download('wordnet')\n",
        "nltk.download('stopwords')\n",
        "from nltk.corpus import wordnet\n",
        "# from nltk.corpus import stopwords\n",
        "import re\n",
        "import json\n",
        "import matplotlib.pyplot as plt\n",
        "\n",
        "def get_X_Y(filepath):\n",
        "  with open(filepath, 'r') as f:\n",
        "    data = f.readlines()\n",
        "  X,Y = [],[]\n",
        "  for s in data:\n",
        "    X.append(s[1:].strip())\n",
        "    Y.append(s[0])\n",
        "  return X,Y\n",
        "\n",
        "from google.colab import drive\n",
        "drive.mount('/content/drive')\n",
        "%cd /content/drive/MyDrive/AEDA"
      ]
    },
    {
      "cell_type": "code",
      "execution_count": null,
      "metadata": {
        "id": "jlWpW1Bhe24S",
        "colab": {
          "base_uri": "https://localhost:8080/"
        },
        "outputId": "87e5892c-7890-4213-f73a-39f111d23a1a"
      },
      "outputs": [
        {
          "output_type": "stream",
          "name": "stdout",
          "text": [
            "EXAMPLES \n",
            "\n",
            "ORIGINAL \n",
            "\n",
            "0\ti must have heard this about a dozen times over the span of 2 weeks , when t-zones never worked . \n",
            " \n",
            "\n",
            "EDA \n",
            "\n",
            "0\ti must have heard this about a birth dozen times over the span of weeks when t zones never worked\n",
            "\n",
            "0\ti must have about this heard a dozen times over the span of weeks when t zones never worked\n",
            "\n",
            "0\ti heard this about a dozen times over the span of weeks when never worked\n",
            "\n",
            "0\ti moldiness have heard this about a dozen times over the span of weeks when t zones never worked\n",
            "\n",
            "0\ti must have heard this about a dozen times over the span of weeks when t zones never worked \n",
            "\n",
            "AEDA \n",
            "\n",
            "0\ti must have ! heard this about a dozen times over the span of 2 weeks ; , ! when t-zones never worked . \n",
            "\n",
            "0\ti must have ? heard this about . a dozen times ; over ? the span of 2 weeks , when ! t-zones never worked ; . \n",
            "\n",
            "0\ti must have heard this , about a dozen times , over the span of 2 weeks , when t-zones never worked . \n",
            "\n",
            "0\ti must have heard this about a dozen times over the span of 2 weeks , when t-zones never : worked . \n",
            "\n",
            "0\ti must have heard this about a dozen times over the span of 2 weeks , when t-zones never worked . \n",
            "\n"
          ]
        }
      ],
      "source": [
        "# DATA ANALYSIS\n",
        "\n",
        "# def print_dim(dataset):\n",
        "#   with open(dataset) as original:\n",
        "#     x = 0\n",
        "#     y = 0\n",
        "#     for line in original:\n",
        "#       x += 1\n",
        "#       y = max(y,len(line))\n",
        "#   print(x,y)\n",
        "\n",
        "# # %cd /content/drive/MyDrive/AEDA\n",
        "\n",
        "# # PRINTING THE DIMENSIONS OF EACH DATASET : ORIGINAL FIVE, EDA, AEDA\n",
        "# print(\"ORIGINAL \\n\")\n",
        "# print(\"TRAIN \\n\")\n",
        "# print_dim(\"DATASETS/train/cr/train.txt\")\n",
        "# print_dim(\"DATASETS/train/pc/train.txt\")\n",
        "# print_dim(\"DATASETS/train/sst2/train.txt\")\n",
        "# print_dim(\"DATASETS/train/subj/train.txt\")\n",
        "# print_dim(\"DATASETS/train/trec/train.txt\")\n",
        "# print() \n",
        "\n",
        "# print(\"TEST \\n\")\n",
        "# print_dim(\"DATASETS/test/cr/test.txt\")\n",
        "# print_dim(\"DATASETS/test/pc/test.txt\")\n",
        "# print_dim(\"DATASETS/test/sst2/test.txt\")\n",
        "# print_dim(\"DATASETS/test/subj/test.txt\")\n",
        "# print_dim(\"DATASETS/test/trec/test.txt\")\n",
        "# print()\n",
        "\n",
        "# print(\"EDA \\n\")\n",
        "# print_dim(\"EDA/train/cr/train.txt\")\n",
        "# print_dim(\"EDA/train/pc/train.txt\")\n",
        "# print_dim(\"EDA/train/sst2/train.txt\")\n",
        "# print_dim(\"EDA/train/subj/train.txt\")\n",
        "# print_dim(\"EDA/train/trec/train.txt\")\n",
        "# print()\n",
        "\n",
        "# print(\"AEDA \\n\")\n",
        "# print_dim(\"AEDA/train/cr/train.txt\")\n",
        "# print_dim(\"AEDA/train/pc/train.txt\")\n",
        "# print_dim(\"AEDA/train/sst2/train.txt\")\n",
        "# print_dim(\"AEDA/train/subj/train.txt\")\n",
        "# print_dim(\"AEDA/train/trec/train.txt\")\n",
        "# print()\n",
        "\n",
        "# PRINTING EXAMPLES OF AEDA AND EDA\n",
        "print(\"EXAMPLES \\n\")\n",
        "print(\"ORIGINAL \\n\")\n",
        "path = \"DATASETS/train/cr/train.txt\"\n",
        "with open(path, 'r') as f:\n",
        "  data = f.readlines()\n",
        "print(data[2],\"\\n\")\n",
        "\n",
        "\n",
        "print(\"EDA \\n\")\n",
        "path = \"EDA/train/cr/train.txt\"\n",
        "with open(path, 'r') as f:\n",
        "  data = f.readlines()\n",
        "print(data[10])\n",
        "print(data[11])\n",
        "print(data[12])\n",
        "print(data[13])\n",
        "print(data[14])\n",
        "\n",
        "print(\"AEDA \\n\")\n",
        "path = \"AEDA/train/cr/train.txt\"\n",
        "with open(path, 'r') as f:\n",
        "  data = f.readlines()\n",
        "print(data[10])\n",
        "print(data[11])\n",
        "print(data[12])\n",
        "print(data[13])\n",
        "print(data[14])\n"
      ]
    },
    {
      "cell_type": "code",
      "source": [
        "# PRINTING COUNT OF VALUES OF ALL CLASSES IN EACH DATASET\n",
        "classes = {'cr' : ['Negative','Positive'],\n",
        "           'pc' : ['Pro','Con'],\n",
        "           'sst2' : ['Negative','Positive'],\n",
        "           'subj' : ['Subjective','Objective'],\n",
        "           'trec' : ['Abbreviation','Description','Entities','Human beings','Locations','Numeric values']\n",
        "           }\n",
        "names = {'cr' : 'Customer Reviews Dataset',\n",
        "           'pc' : 'Pros and Cons Dataset',\n",
        "           'sst2' : 'Standford Sentiment TreeBank',\n",
        "           'subj' : 'Subjectivity Objectivity Dataset',\n",
        "           'trec' : 'Question Classification Dataset',\n",
        "         }\n",
        "\n",
        "for cur_dataset in ['cr','pc','sst2','subj','trec']:\n",
        "  X,Y = get_X_Y('DATASETS/train/'+cur_dataset +'/train.txt')\n",
        "  counts = pd.DataFrame(Y).value_counts()\n",
        "  count = counts.to_numpy()\n",
        "  plt.figure(figsize = (10,5))\n",
        "  plt.title(names[cur_dataset])\n",
        "  plt.ylabel('Data Points')\n",
        "  l = []\n",
        "  for i in range(len(count)):\n",
        "    l.append(i)\n",
        "  plt.xticks(l,classes[cur_dataset])\n",
        "  plt.bar(np.arange(len(count)), count)"
      ],
      "metadata": {
        "colab": {
          "base_uri": "https://localhost:8080/",
          "height": 1000
        },
        "id": "2LMEOkEFOyRL",
        "outputId": "fd2ab5bc-fa7d-46ac-c370-91c10e6c47e4"
      },
      "execution_count": null,
      "outputs": [
        {
          "output_type": "display_data",
          "data": {
            "text/plain": [
              "<Figure size 720x360 with 1 Axes>"
            ],
            "image/png": "[encoded data removed]"
          },
          "metadata": {
            "needs_background": "light"
          }
        },
        {
          "output_type": "display_data",
          "data": {
            "text/plain": [
              "<Figure size 720x360 with 1 Axes>"
            ],
            "image/png": "[encoded data removed]"
          },
          "metadata": {
            "needs_background": "light"
          }
        },
        {
          "output_type": "display_data",
          "data": {
            "text/plain": [
              "<Figure size 720x360 with 1 Axes>"
            ],
            "image/png": "[encoded data removed]"
          },
          "metadata": {
            "needs_background": "light"
          }
        },
        {
          "output_type": "display_data",
          "data": {
            "text/plain": [
              "<Figure size 720x360 with 1 Axes>"
            ],
            "image/png": "[encoded data removed]"
          },
          "metadata": {
            "needs_background": "light"
          }
        },
        {
          "output_type": "display_data",
          "data": {
            "text/plain": [
              "<Figure size 720x360 with 1 Axes>"
            ],
            "image/png": "[encoded data removed]"
          },
          "metadata": {
            "needs_background": "light"
          }
        }
      ]
    },
    {
      "cell_type": "code",
      "execution_count": null,
      "metadata": {
        "id": "pzWomVxK4-ny"
      },
      "outputs": [],
      "source": [
        "# MAKING THE FOLDERS FOR EDA AND AEDA\n",
        "\n",
        "# %cd /content/drive/MyDrive/AEDA\n",
        "\n",
        "# os.mkdir('AEDA')\n",
        "# os.mkdir('AEDA/train')\n",
        "# os.mkdir('AEDA/train/cr')\n",
        "# os.mkdir('AEDA/train/pc')\n",
        "# os.mkdir('AEDA/train/sst2')\n",
        "# os.mkdir('AEDA/train/subj')\n",
        "# os.mkdir('AEDA/train/trec')\n",
        "\n",
        "# os.mkdir('EDA')\n",
        "# os.mkdir('EDA/train')\n",
        "# os.mkdir('EDA/train/cr')\n",
        "# os.mkdir('EDA/train/pc')\n",
        "# os.mkdir('EDA/train/sst2')\n",
        "# os.mkdir('EDA/train/subj')\n",
        "# os.mkdir('EDA/train/trec')"
      ]
    },
    {
      "cell_type": "code",
      "source": [
        "build_model(400,20,5)"
      ],
      "metadata": {
        "colab": {
          "base_uri": "https://localhost:8080/"
        },
        "id": "hrlHkkokIjmI",
        "outputId": "bd13149d-0402-4557-a6ef-0295875b8eb0"
      },
      "execution_count": null,
      "outputs": [
        {
          "output_type": "stream",
          "name": "stdout",
          "text": [
            "Model: \"sequential\"\n",
            "_________________________________________________________________\n",
            " Layer (type)                Output Shape              Param #   \n",
            "=================================================================\n",
            " embedding (Embedding)       (None, 20, 200)           80000     \n",
            "                                                                 \n",
            " conv1d (Conv1D)             (None, 16, 256)           256256    \n",
            "                                                                 \n",
            " conv1d_1 (Conv1D)           (None, 14, 128)           98432     \n",
            "                                                                 \n",
            " conv1d_2 (Conv1D)           (None, 12, 64)            24640     \n",
            "                                                                 \n",
            " global_max_pooling1d (Globa  (None, 64)               0         \n",
            " lMaxPooling1D)                                                  \n",
            "                                                                 \n",
            " dense (Dense)               (None, 64)                4160      \n",
            "                                                                 \n",
            " dense_1 (Dense)             (None, 32)                2080      \n",
            "                                                                 \n",
            " dense_2 (Dense)             (None, 5)                 165       \n",
            "                                                                 \n",
            "=================================================================\n",
            "Total params: 465,733\n",
            "Trainable params: 465,733\n",
            "Non-trainable params: 0\n",
            "_________________________________________________________________\n",
            "None\n"
          ]
        },
        {
          "output_type": "execute_result",
          "data": {
            "text/plain": [
              "<keras.engine.sequential.Sequential at 0x7fbb9db8ded0>"
            ]
          },
          "metadata": {},
          "execution_count": 3
        }
      ]
    },
    {
      "cell_type": "code",
      "execution_count": null,
      "metadata": {
        "id": "sR8BSVKkxSUx"
      },
      "outputs": [],
      "source": [
        "# BUILD MODEL\n",
        "\n",
        "def build_model(vocab_size,maxlen,number_of_classes):\n",
        "\n",
        "  model = Sequential()\n",
        "\n",
        "  # CNN\n",
        "  model.add(layers.Embedding(vocab_size, 200 ,input_length = maxlen))\n",
        "  model.add(layers.Conv1D(256, 5, activation='relu'))\n",
        "  model.add(layers.Conv1D(128, 3, activation='relu'))\n",
        "  model.add(layers.Conv1D(64, 3, activation='relu'))\n",
        "  model.add(layers.GlobalMaxPooling1D())\n",
        "  model.add(layers.Dense(64, activation='relu'))\n",
        "  model.add(layers.Dense(32, activation='relu'))\n",
        "  model.add(layers.Dense(number_of_classes, activation='softmax'))\n",
        "  model.compile(optimizer='adam',loss='categorical_crossentropy',metrics=['categorical_accuracy'])\n",
        "\n",
        "  \n",
        "  print(model.summary())\n",
        "  return model\n",
        "\n",
        "def get_accuracy(X_train,Y_train,X_test,Y_test):\n",
        "\n",
        "\n",
        "  # perform vectorization\n",
        "  tokenizer = Tokenizer()\n",
        "  X_train = np.array(X_train)\n",
        "  X_test = np.array(X_test)\n",
        "  tokenizer.fit_on_texts(X_train)\n",
        "  Xcnn_train = np.array(tokenizer.texts_to_sequences(X_train))\n",
        "  Xcnn_test = np.array(tokenizer.texts_to_sequences(X_test))\n",
        "  vocab_size = len(tokenizer.word_index) + 1  \n",
        "  # print(Xcnn_train[0])\n",
        "  # print(Xcnn_test[0]) \n",
        "  # print(vocab_size)\n",
        "\n",
        "  maxlen = 0\n",
        "  for j in X_train:\n",
        "    maxlen = max(maxlen,len(j))\n",
        "  for j in X_test:\n",
        "    maxlen = max(maxlen,len(j))\n",
        "  # print(maxlen)\n",
        "\n",
        "  Xcnn_train = pad_sequences(Xcnn_train, padding='post', maxlen=maxlen)\n",
        "  Xcnn_test = pad_sequences(Xcnn_test, padding='post', maxlen=maxlen)\n",
        "  # print(Xcnn_train.shape,Xcnn_test.shape)\n",
        "\n",
        "  enc = OneHotEncoder()\n",
        "  Y_train = np.array(Y_train).reshape(-1,1)\n",
        "  Y_test = np.array(Y_test).reshape(-1,1)\n",
        "  enc.fit(Y_train)\n",
        "  Y_train = enc.transform(Y_train).astype(np.int64).toarray()\n",
        "  Y_test = enc.transform(Y_test).astype(np.int64).toarray()\n",
        "  number_of_classes = len(Y_train[0])\n",
        "\n",
        "  # run on the model\n",
        "  model = build_model(vocab_size,maxlen,number_of_classes)\n",
        "  model.fit(x = Xcnn_train,y = Y_train,batch_size = 1024,epochs = 10)\n",
        "  acc = model.evaluate(Xcnn_test,Y_test)\n",
        "\n",
        "  # return test accuracy\n",
        "  return acc"
      ]
    },
    {
      "cell_type": "markdown",
      "metadata": {
        "id": "ZpP3Ejn165F2"
      },
      "source": [
        "**AEDA Augmentation**"
      ]
    },
    {
      "cell_type": "code",
      "execution_count": null,
      "metadata": {
        "id": "FBl8GF_TUUIo"
      },
      "outputs": [],
      "source": [
        "# # AEDA AUGMENTATION\n",
        "\n",
        "# PUNCTUATIONS = ['.', ',', '!', '?', ';', ':']\n",
        "# PUNC_RATIO = 0.3\n",
        "# def insert_punctuation_marks(sentence, punc_ratio=PUNC_RATIO):\n",
        "#   words = sentence.split(' ') \n",
        "#   new_line = []\n",
        "#   q = random.randint(1, int(punc_ratio * len(words) + 1))\n",
        "#   qs = random.sample(range(0, len(words)), q)\n",
        "#   for j, word in enumerate(words):\n",
        "#     if j in qs: \n",
        "#       new_line.append(PUNCTUATIONS[random.randint(0, len(PUNCTUATIONS)-1)])\n",
        "#     new_line.append(word)\n",
        "#   new_line = ' '.join(new_line)\n",
        "#   return new_line\n",
        "\n",
        "# def AEDA(source,destination):\n",
        "#   data_aug = []\n",
        "#   with open(source) as original:\n",
        "#     for line in original:\n",
        "#       line1 = line.split('\\t')\n",
        "#       label = line1[0]\n",
        "#       sentence = line1[1]\n",
        "#       for i in range(4):\n",
        "#         sentence_aug = insert_punctuation_marks(sentence)\n",
        "#         line_aug = '\\t'.join([label, sentence_aug])\n",
        "#         data_aug.append(line_aug)\n",
        "#       data_aug.append(line)\n",
        "#   with open(destination, 'w') as f:\n",
        "#     f.writelines(data_aug)"
      ]
    },
    {
      "cell_type": "code",
      "execution_count": null,
      "metadata": {
        "id": "VjH88yAPwqsH"
      },
      "outputs": [],
      "source": [
        "# os.remove(\"AEDA/train/cr/train.txt\")\n",
        "# os.remove(\"AEDA/train/pc/train.txt\")\n",
        "# os.remove(\"AEDA/train/sst2/train.txt\")\n",
        "# os.remove(\"AEDA/train/subj/train.txt\")\n",
        "# os.remove(\"AEDA/train/trec/train.txt\")\n",
        "\n",
        "# cr_source = \"DATASETS/train/cr/train.txt\"\n",
        "# pc_source = \"DATASETS/train/pc/train.txt\"\n",
        "# sst2_source = \"DATASETS/train/sst2/train.txt\"\n",
        "# subj_source = \"DATASETS/train/subj/train.txt\"\n",
        "# trec_source = \"DATASETS/train/trec/train.txt\"\n",
        "# cr_destination = \"AEDA/train/cr/train.txt\"\n",
        "# pc_destination = \"AEDA/train/pc/train.txt\"\n",
        "# sst2_destination = \"AEDA/train/sst2/train.txt\"\n",
        "# subj_destination = \"AEDA/train/subj/train.txt\"\n",
        "# trec_destination = \"AEDA/train/trec/train.txt\"\n",
        "\n",
        "# AEDA(cr_source,cr_destination)\n",
        "# AEDA(pc_source,pc_destination)\n",
        "# AEDA(sst2_source,sst2_destination)\n",
        "# AEDA(subj_source,subj_destination)\n",
        "# AEDA(trec_source,trec_destination)"
      ]
    },
    {
      "cell_type": "markdown",
      "metadata": {
        "id": "ZHZGF9Kh6VsO"
      },
      "source": [
        "**EDA : Augmentation**"
      ]
    },
    {
      "cell_type": "code",
      "execution_count": null,
      "metadata": {
        "id": "KflYgXJkQAPI"
      },
      "outputs": [],
      "source": [
        "# # EDA\n",
        "\n",
        "# stop_words = set(stopwords.words('english'))\n",
        "\n",
        "# def get_only_chars(line):\n",
        "\n",
        "#     clean_line = \"\"\n",
        "\n",
        "#     line = line.replace(\"’\", \"\")\n",
        "#     line = line.replace(\"'\", \"\")\n",
        "#     line = line.replace(\"-\", \" \") #replace hyphens with spaces\n",
        "#     line = line.replace(\"\\t\", \" \")\n",
        "#     line = line.replace(\"\\n\", \" \")\n",
        "#     line = line.lower()\n",
        "\n",
        "#     for char in line:\n",
        "#         if char in 'qwertyuiopasdfghjklzxcvbnm ':\n",
        "#             clean_line += char\n",
        "#         else:\n",
        "#             clean_line += ' '\n",
        "\n",
        "#     clean_line = re.sub(' +',' ',clean_line) #delete extra spaces\n",
        "#     if clean_line[0] == ' ':\n",
        "#         clean_line = clean_line[1:]\n",
        "#     return clean_line\n",
        "\n",
        "# # Synonym replacement\n",
        " \n",
        "\n",
        "# def synonym_replacement(words, n):\n",
        "# \tnew_words = words.copy()\n",
        "# \trandom_word_list = list(set([word for word in words if word not in stop_words]))\n",
        "# \trandom.shuffle(random_word_list)\n",
        "# \tnum_replaced = 0\n",
        "# \tfor random_word in random_word_list:\n",
        "# \t\tsynonyms = get_synonyms(random_word)\n",
        "# \t\tif len(synonyms) >= 1:\n",
        "# \t\t\tsynonym = random.choice(list(synonyms))\n",
        "# \t\t\tnew_words = [synonym if word == random_word else word for word in new_words]\n",
        "# \t\t\tnum_replaced += 1\n",
        "# \t\tif num_replaced >= n: \n",
        "# \t\t\tbreak\n",
        "# \tsentence = ' '.join(new_words)\n",
        "# \tnew_words = sentence.split(' ')\n",
        "\n",
        "# \treturn new_words\n",
        "\n",
        "# def get_synonyms(word):\n",
        "# \tsynonyms = set()\n",
        "# \tfor syn in wordnet.synsets(word): \n",
        "# \t\tfor l in syn.lemmas(): \n",
        "# \t\t\tsynonym = l.name().replace(\"_\", \" \").replace(\"-\", \" \").lower()\n",
        "# \t\t\tsynonym = \"\".join([char for char in synonym if char in ' qwertyuiopasdfghjklzxcvbnm'])\n",
        "# \t\t\tsynonyms.add(synonym) \n",
        "# \tif word in synonyms:\n",
        "# \t\tsynonyms.remove(word)\n",
        "# \treturn list(synonyms)\n",
        "\n",
        "# # Random deletion\n",
        "\n",
        "# def random_deletion(words, p):\n",
        "\n",
        "# \tif len(words) == 1:\n",
        "# \t\treturn words\n",
        "# \tnew_words = []\n",
        "# \tfor word in words:\n",
        "# \t\tr = random.uniform(0, 1)\n",
        "# \t\tif r > p:\n",
        "# \t\t\tnew_words.append(word)\n",
        "# \tif len(new_words) == 0:\n",
        "# \t\trand_int = random.randint(0, len(words)-1)\n",
        "# \t\treturn [words[rand_int]]\n",
        "\n",
        "# \treturn new_words\n",
        "\n",
        "\n",
        "# def random_swap(words, n):\n",
        "# \tnew_words = words.copy()\n",
        "# \tfor _ in range(n):\n",
        "# \t\tnew_words = swap_word(new_words)\n",
        "# \treturn new_words\n",
        "\n",
        "# def swap_word(new_words):\n",
        "# \trandom_idx_1 = random.randint(0, len(new_words)-1)\n",
        "# \trandom_idx_2 = random_idx_1\n",
        "# \tcounter = 0\n",
        "# \twhile random_idx_2 == random_idx_1:\n",
        "# \t\trandom_idx_2 = random.randint(0, len(new_words)-1)\n",
        "# \t\tcounter += 1\n",
        "# \t\tif counter > 3:\n",
        "# \t\t\treturn new_words\n",
        "# \tnew_words[random_idx_1], new_words[random_idx_2] = new_words[random_idx_2], new_words[random_idx_1] \n",
        "# \treturn new_words\n",
        "\n",
        "\n",
        "# def random_insertion(words, n):\n",
        "# \tnew_words = words.copy()\n",
        "# \tfor _ in range(n):\n",
        "# \t\tadd_word(new_words)\n",
        "# \treturn new_words\n",
        "\n",
        "# def add_word(new_words):\n",
        "# \tsynonyms = []\n",
        "#   random_word = new_words[random.randint(0, len(new_words)-1)]\n",
        "#   synonyms = get_synonyms(random_word)\n",
        "# \trandom_synonym = synonyms[0]\n",
        "# \trandom_idx = random.randint(0, len(new_words)-1)\n",
        "# \tnew_words.insert(random_idx, random_synonym)\n",
        "\n",
        "\n",
        "# def eda(sentence, alpha_sr=0.1, alpha_ri=0.1, alpha_rs=0.1, p_rd=0.1, num_aug=4):\n",
        "\n",
        "# \tsentence = get_only_chars(sentence)\n",
        "# \twords = sentence.split(' ')\n",
        "# \twords = [word for word in words if word is not '']\n",
        "# \tnum_words = len(words)\n",
        "\t\n",
        "# \taugmented_sentences = []\n",
        "# \tnum_new_per_technique = int(num_aug/4)\n",
        "\n",
        "# \tn_sr = max(1, int(alpha_sr*num_words))\n",
        "# \tfor _ in range(num_new_per_technique):\n",
        "# \t\ta_words = synonym_replacement(words, n_sr)\n",
        "# \t\taugmented_sentences.append(' '.join(a_words))\n",
        "\n",
        "# \tn_ri = max(1, int(alpha_ri*num_words))\n",
        "# \tfor _ in range(num_new_per_technique):\n",
        "# \t\ta_words = random_insertion(words, n_ri)\n",
        "# \t\taugmented_sentences.append(' '.join(a_words))\n",
        "\n",
        "# \tn_rs = max(1, int(alpha_rs*num_words))\n",
        "# \tfor _ in range(num_new_per_technique):\n",
        "# \t\ta_words = random_swap(words, n_rs)\n",
        "# \t\taugmented_sentences.append(' '.join(a_words))\n",
        "\n",
        "# \tfor _ in range(num_new_per_technique):\n",
        "# \t\ta_words = random_deletion(words, p_rd)\n",
        "# \t\taugmented_sentences.append(' '.join(a_words))\n",
        "\n",
        "# \taugmented_sentences = [get_only_chars(sentence) for sentence in augmented_sentences]\n",
        "# \tshuffle(augmented_sentences)\n",
        "# \taugmented_sentences = augmented_sentences[:num_aug]\t\n",
        "# \taugmented_sentences.append(sentence)\n",
        "# \treturn augmented_sentences\n",
        "\n",
        "# def augment(source, destination):\n",
        "#   data_aug = []\n",
        "#   with open(source) as original:\n",
        "#     for line in original:\n",
        "#       line1 = line.split('\\t')\n",
        "#       label = line1[0]\n",
        "#       sentence = line1[1]\n",
        "#       sentence_aug = eda(sentence)\n",
        "#       for aug_sentence in sentence_aug:\n",
        "#         line_aug = '\\t'.join([label, aug_sentence]) + '\\n'\n",
        "#         data_aug.append(line_aug)\n",
        "#   with open(destination, 'w') as f:\n",
        "#     f.writelines(data_aug)\n"
      ]
    },
    {
      "cell_type": "code",
      "execution_count": null,
      "metadata": {
        "id": "d0gjMRC3QrIR"
      },
      "outputs": [],
      "source": [
        "# %cd /content/drive/MyDrive/AEDA\n",
        "\n",
        "# # os.remove(\"EDA/train/cr/train.txt\")\n",
        "# # os.remove(\"EDA/train/pc/train.txt\")\n",
        "# # os.remove(\"EDA/train/sst2/train.txt\")\n",
        "# # os.remove(\"EDA/train/subj/train.txt\")\n",
        "# os.remove(\"EDA/train/trec/train.txt\")\n",
        "\n",
        "# cr_source = \"DATASETS/train/cr/train.txt\"\n",
        "# pc_source = \"DATASETS/train/pc/train.txt\"\n",
        "# sst2_source = \"DATASETS/train/sst2/train.txt\"\n",
        "# subj_source = \"DATASETS/train/subj/train.txt\"\n",
        "# trec_source = \"DATASETS/train/trec/train.txt\"\n",
        "# cr_destination = \"EDA/train/cr/train.txt\"\n",
        "# pc_destination = \"EDA/train/pc/train.txt\"\n",
        "# sst2_destination = \"EDA/train/sst2/train.txt\"\n",
        "# subj_destination = \"EDA/train/subj/train.txt\"\n",
        "# trec_destination = \"EDA/train/trec/train.txt\"\n",
        "\n",
        "# augment(cr_source,cr_destination)\n",
        "# augment(pc_source,pc_destination)\n",
        "# augment(sst2_source,sst2_destination)\n",
        "# augment(subj_source,subj_destination)\n",
        "# augment(trec_source,trec_destination)"
      ]
    },
    {
      "cell_type": "markdown",
      "metadata": {
        "id": "RD2voMbK7Ild"
      },
      "source": [
        "**RUN ON ALL THREE DATASETS**"
      ]
    },
    {
      "cell_type": "code",
      "execution_count": null,
      "metadata": {
        "id": "tmzLOOlVikIU"
      },
      "outputs": [],
      "source": [
        "# # GET ORIGINAL DATASET\n",
        "\n",
        "# cr_train_X,cr_train_Y = get_X_Y(\"train/cr/train.txt\")\n",
        "# cr_test_X,cr_test_Y = get_X_Y(\"test/cr/test.txt\")\n",
        "# pc_train_X,pc_train_Y = get_X_Y(\"train/pc/train.txt\")\n",
        "# pc_test_X,pc_test_Y = get_X_Y(\"test/pc/test.txt\")\n",
        "# sst2_train_X,sst2_train_Y = get_X_Y(\"train/sst2/train.txt\")\n",
        "# sst2_test_X,sst2_test_Y = get_X_Y(\"test/sst2/test.txt\")\n",
        "# subj_train_X,subj_train_Y = get_X_Y(\"train/subj/train.txt\")\n",
        "# subj_test_X,subj_test_Y = get_X_Y(\"test/subj/test.txt\")\n",
        "# trec_train_X,trec_train_Y = get_X_Y(\"train/trec/train.txt\")\n",
        "# trec_test_X,trec_test_Y = get_X_Y(\"test/trec/test.txt\")\n",
        "\n",
        "\n",
        "# cr_loss, cr_accuracy = get_accuracy(cr_train_X,cr_train_Y,cr_test_X,cr_test_Y)\n",
        "# pc_loss,pc_accuracy = get_accuracy(pc_train_X,pc_train_Y,pc_test_X,pc_test_Y)\n",
        "# sst2_loss,sst2_accuracy = get_accuracy(sst2_train_X,sst2_train_Y,sst2_test_X,sst2_test_Y)\n",
        "# subj_loss,subj_accuracy = get_accuracy(subj_train_X,subj_train_Y,subj_test_X,subj_test_Y)\n",
        "# trec_loss,trec_accuracy = get_accuracy(trec_train_X,trec_train_Y,trec_test_X,trec_test_Y)\n",
        "\n",
        "# print(\"cr : \", cr_accuracy)\n",
        "# print(\"pc : \", pc_accuracy)\n",
        "# print(\"sst2 : \", sst2_accuracy)\n",
        "# print(\"subj : \", subj_accuracy)\n",
        "# print(\"trec : \", trec_accuracy)"
      ]
    },
    {
      "cell_type": "code",
      "execution_count": null,
      "metadata": {
        "id": "zFdJe6KHIOcA"
      },
      "outputs": [],
      "source": [
        "# # GET AEDA DATASET AND RUN MODEL ON IT\n",
        "\n",
        "# %cd /content/drive/MyDrive/AEDA\n",
        "# cr_train_X,cr_train_Y = get_X_Y(\"AEDA/train/cr/train.txt\")\n",
        "# cr_test_X,cr_test_Y = get_X_Y(\"DATASETS/test/cr/test.txt\")\n",
        "# pc_train_X,pc_train_Y = get_X_Y(\"AEDA/train/pc/train.txt\")\n",
        "# pc_test_X,pc_test_Y = get_X_Y(\"DATASETS/test/pc/test.txt\")\n",
        "# sst2_train_X,sst2_train_Y = get_X_Y(\"AEDA/train/sst2/train.txt\")\n",
        "# sst2_test_X,sst2_test_Y = get_X_Y(\"DATASETS/test/sst2/test.txt\")\n",
        "# subj_train_X,subj_train_Y = get_X_Y(\"AEDA/train/subj/train.txt\")\n",
        "# subj_test_X,subj_test_Y = get_X_Y(\"DATASETS/test/subj/test.txt\")\n",
        "# trec_train_X,trec_train_Y = get_X_Y(\"AEDA/train/trec/train.txt\")\n",
        "# trec_test_X,trec_test_Y = get_X_Y(\"DATASETS/test/trec/test.txt\")\n",
        "\n",
        "\n",
        "# cr_loss, cr_accuracy = get_accuracy(cr_train_X,cr_train_Y,cr_test_X,cr_test_Y)\n",
        "# pc_loss,pc_accuracy = get_accuracy(pc_train_X,pc_train_Y,pc_test_X,pc_test_Y)\n",
        "# sst2_loss,sst2_accuracy = get_accuracy(sst2_train_X,sst2_train_Y,sst2_test_X,sst2_test_Y)\n",
        "# subj_loss,subj_accuracy = get_accuracy(subj_train_X,subj_train_Y,subj_test_X,subj_test_Y)\n",
        "# trec_loss,trec_accuracy = get_accuracy(trec_train_X,trec_train_Y,trec_test_X,trec_test_Y)\n",
        "\n",
        "# print(\"cr : \", cr_accuracy)\n",
        "# print(\"pc : \", pc_accuracy)\n",
        "# print(\"sst2 : \", sst2_accuracy)\n",
        "# print(\"subj : \", subj_accuracy)\n",
        "# print(\"trec : \", trec_accuracy)"
      ]
    },
    {
      "cell_type": "code",
      "execution_count": null,
      "metadata": {
        "id": "gVixYTFSXetc"
      },
      "outputs": [],
      "source": [
        "# # GET EDA DATASET AND RUN MODEL ON IT\n",
        "\n",
        "# %cd /content/drive/MyDrive/AEDA\n",
        "# cr_train_X,cr_train_Y = get_X_Y(\"EDA/train/cr/train.txt\")\n",
        "# cr_test_X,cr_test_Y = get_X_Y(\"DATASETS/test/cr/test.txt\")\n",
        "# pc_train_X,pc_train_Y = get_X_Y(\"EDA/train/pc/train.txt\")\n",
        "# pc_test_X,pc_test_Y = get_X_Y(\"DATASETS/test/pc/test.txt\")\n",
        "# sst2_train_X,sst2_train_Y = get_X_Y(\"EDA/train/sst2/train.txt\")\n",
        "# sst2_test_X,sst2_test_Y = get_X_Y(\"DATASETS/test/sst2/test.txt\")\n",
        "# subj_train_X,subj_train_Y = get_X_Y(\"EDA/train/subj/train.txt\")\n",
        "# subj_test_X,subj_test_Y = get_X_Y(\"DATASETS/test/subj/test.txt\")\n",
        "# trec_train_X,trec_train_Y = get_X_Y(\"EDA/train/trec/train.txt\")\n",
        "# trec_test_X,trec_test_Y = get_X_Y(\"DATASETS/test/trec/test.txt\")\n",
        "\n",
        "\n",
        "# cr_loss, cr_accuracy = get_accuracy(cr_train_X,cr_train_Y,cr_test_X,cr_test_Y)\n",
        "# pc_loss,pc_accuracy = get_accuracy(pc_train_X,pc_train_Y,pc_test_X,pc_test_Y)\n",
        "# sst2_loss,sst2_accuracy = get_accuracy(sst2_train_X,sst2_train_Y,sst2_test_X,sst2_test_Y)\n",
        "# subj_loss,subj_accuracy = get_accuracy(subj_train_X,subj_train_Y,subj_test_X,subj_test_Y)\n",
        "# trec_loss,trec_accuracy = get_accuracy(trec_train_X,trec_train_Y,trec_test_X,trec_test_Y)\n",
        "\n",
        "# print(\"cr : \", cr_accuracy)\n",
        "# print(\"pc : \", pc_accuracy)\n",
        "# print(\"sst2 : \", sst2_accuracy)\n",
        "# print(\"subj : \", subj_accuracy)\n",
        "# print(\"trec : \", trec_accuracy)"
      ]
    },
    {
      "cell_type": "code",
      "execution_count": null,
      "metadata": {
        "id": "6OoxzCVh9zmP"
      },
      "outputs": [],
      "source": [
        "# # RUN\n",
        "\n",
        "orig_cr_train_X,orig_cr_train_Y = get_X_Y(\"DATASETS/train/cr/train.txt\")\n",
        "orig_cr_test_X,orig_cr_test_Y = get_X_Y(\"DATASETS/test/cr/test.txt\")\n",
        "orig_pc_train_X,orig_pc_train_Y = get_X_Y(\"DATASETS/train/pc/train.txt\")\n",
        "orig_pc_test_X,orig_pc_test_Y = get_X_Y(\"DATASETS/test/pc/test.txt\")\n",
        "orig_sst2_train_X,orig_sst2_train_Y = get_X_Y(\"DATASETS/train/sst2/train.txt\")\n",
        "orig_sst2_test_X,orig_sst2_test_Y = get_X_Y(\"DATASETS/test/sst2/test.txt\")\n",
        "orig_subj_train_X,orig_subj_train_Y = get_X_Y(\"DATASETS/train/subj/train.txt\")\n",
        "orig_subj_test_X,orig_subj_test_Y = get_X_Y(\"DATASETS/test/subj/test.txt\")\n",
        "orig_trec_train_X,orig_trec_train_Y = get_X_Y(\"DATASETS/train/trec/train.txt\")\n",
        "orig_trec_test_X,orig_trec_test_Y = get_X_Y(\"DATASETS/test/trec/test.txt\")\n",
        "\n",
        "aeda_cr_train_X,aeda_cr_train_Y = get_X_Y(\"AEDA/train/cr/train.txt\")\n",
        "aeda_pc_train_X,aeda_pc_train_Y = get_X_Y(\"AEDA/train/pc/train.txt\")\n",
        "aeda_sst2_train_X,aeda_sst2_train_Y = get_X_Y(\"AEDA/train/sst2/train.txt\")\n",
        "aeda_subj_train_X,aeda_subj_train_Y = get_X_Y(\"AEDA/train/subj/train.txt\")\n",
        "aeda_trec_train_X,aeda_trec_train_Y = get_X_Y(\"AEDA/train/trec/train.txt\")\n",
        "\n",
        "eda_cr_train_X,eda_cr_train_Y = get_X_Y(\"EDA/train/cr/train.txt\")\n",
        "eda_pc_train_X,eda_pc_train_Y = get_X_Y(\"EDA/train/pc/train.txt\")\n",
        "eda_sst2_train_X,eda_sst2_train_Y = get_X_Y(\"EDA/train/sst2/train.txt\")\n",
        "eda_subj_train_X,eda_subj_train_Y = get_X_Y(\"EDA/train/subj/train.txt\")\n",
        "eda_trec_train_X,eda_trec_train_Y = get_X_Y(\"EDA/train/trec/train.txt\")\n",
        "\n",
        "train = [[orig_cr_train_X,orig_cr_train_Y],[orig_pc_train_X,orig_pc_train_Y],[orig_sst2_train_X,orig_sst2_train_Y],[orig_subj_train_X,orig_subj_train_Y],[orig_trec_train_X,orig_trec_train_Y],[eda_cr_train_X,eda_cr_train_Y],[eda_pc_train_X,eda_pc_train_Y],[eda_sst2_train_X,eda_sst2_train_Y],[eda_subj_train_X,eda_subj_train_Y],\n",
        "         [eda_trec_train_X,eda_trec_train_Y], [aeda_cr_train_X,aeda_cr_train_Y],[aeda_pc_train_X,aeda_pc_train_Y],[aeda_sst2_train_X,aeda_sst2_train_Y],[aeda_subj_train_X,aeda_subj_train_Y],         [aeda_trec_train_X,aeda_trec_train_Y]\n",
        "        ]\n",
        "\n",
        "test = [[orig_cr_test_X,orig_cr_test_Y],[orig_pc_test_X,orig_pc_test_Y],[orig_sst2_test_X,orig_sst2_test_Y],[orig_subj_test_X,orig_subj_test_Y],[orig_trec_test_X,orig_trec_test_Y]]"
      ]
    },
    {
      "cell_type": "code",
      "execution_count": null,
      "metadata": {
        "colab": {
          "base_uri": "https://localhost:8080/"
        },
        "id": "QZdPco3oe8Qd",
        "outputId": "0cb7f883-14f7-479b-be27-c2801299d55f"
      },
      "outputs": [
        {
          "output_type": "stream",
          "name": "stdout",
          "text": [
            "Epoch 1/10\n"
          ]
        },
        {
          "output_type": "stream",
          "name": "stderr",
          "text": [
            "/usr/local/lib/python3.7/dist-packages/ipykernel_launcher.py:39: VisibleDeprecationWarning: Creating an ndarray from ragged nested sequences (which is a list-or-tuple of lists-or-tuples-or ndarrays with different lengths or shapes) is deprecated. If you meant to do this, you must specify 'dtype=object' when creating the ndarray.\n",
            "/usr/local/lib/python3.7/dist-packages/ipykernel_launcher.py:40: VisibleDeprecationWarning: Creating an ndarray from ragged nested sequences (which is a list-or-tuple of lists-or-tuples-or ndarrays with different lengths or shapes) is deprecated. If you meant to do this, you must specify 'dtype=object' when creating the ndarray.\n"
          ]
        },
        {
          "output_type": "stream",
          "name": "stdout",
          "text": [
            "3/3 [==============================] - 4s 769ms/step - loss: 1.7684 - categorical_accuracy: 0.2399\n",
            "Epoch 2/10\n",
            "3/3 [==============================] - 1s 213ms/step - loss: 1.7173 - categorical_accuracy: 0.2399\n",
            "Epoch 3/10\n",
            "3/3 [==============================] - 1s 211ms/step - loss: 1.6794 - categorical_accuracy: 0.2447\n",
            "Epoch 4/10\n",
            "3/3 [==============================] - 1s 214ms/step - loss: 1.6416 - categorical_accuracy: 0.3291\n",
            "Epoch 5/10\n",
            "3/3 [==============================] - 1s 212ms/step - loss: 1.5984 - categorical_accuracy: 0.3283\n",
            "Epoch 6/10\n",
            "3/3 [==============================] - 1s 213ms/step - loss: 1.5330 - categorical_accuracy: 0.4369\n",
            "Epoch 7/10\n",
            "3/3 [==============================] - 1s 214ms/step - loss: 1.4308 - categorical_accuracy: 0.4145\n",
            "Epoch 8/10\n",
            "3/3 [==============================] - 1s 213ms/step - loss: 1.2770 - categorical_accuracy: 0.5081\n",
            "Epoch 9/10\n",
            "3/3 [==============================] - 1s 217ms/step - loss: 1.0985 - categorical_accuracy: 0.5792\n",
            "Epoch 10/10\n",
            "3/3 [==============================] - 1s 215ms/step - loss: 0.9039 - categorical_accuracy: 0.6974\n",
            "15/15 [==============================] - 0s 5ms/step - loss: 3.0600 - categorical_accuracy: 0.1951\n"
          ]
        },
        {
          "output_type": "stream",
          "name": "stderr",
          "text": [
            "/usr/local/lib/python3.7/dist-packages/ipykernel_launcher.py:39: VisibleDeprecationWarning: Creating an ndarray from ragged nested sequences (which is a list-or-tuple of lists-or-tuples-or ndarrays with different lengths or shapes) is deprecated. If you meant to do this, you must specify 'dtype=object' when creating the ndarray.\n",
            "/usr/local/lib/python3.7/dist-packages/ipykernel_launcher.py:40: VisibleDeprecationWarning: Creating an ndarray from ragged nested sequences (which is a list-or-tuple of lists-or-tuples-or ndarrays with different lengths or shapes) is deprecated. If you meant to do this, you must specify 'dtype=object' when creating the ndarray.\n"
          ]
        },
        {
          "output_type": "stream",
          "name": "stdout",
          "text": [
            "Epoch 1/10\n",
            "14/14 [==============================] - 6s 286ms/step - loss: 1.7011 - categorical_accuracy: 0.2378\n",
            "Epoch 2/10\n",
            "14/14 [==============================] - 3s 245ms/step - loss: 1.5593 - categorical_accuracy: 0.3579\n",
            "Epoch 3/10\n",
            "14/14 [==============================] - 3s 246ms/step - loss: 1.0898 - categorical_accuracy: 0.5720\n",
            "Epoch 4/10\n",
            "14/14 [==============================] - 3s 248ms/step - loss: 0.5006 - categorical_accuracy: 0.8569\n",
            "Epoch 5/10\n",
            "14/14 [==============================] - 3s 249ms/step - loss: 0.2224 - categorical_accuracy: 0.9463\n",
            "Epoch 6/10\n",
            "14/14 [==============================] - 4s 251ms/step - loss: 0.0943 - categorical_accuracy: 0.9730\n",
            "Epoch 7/10\n",
            "14/14 [==============================] - 4s 250ms/step - loss: 0.0400 - categorical_accuracy: 0.9906\n",
            "Epoch 8/10\n",
            "14/14 [==============================] - 4s 251ms/step - loss: 0.0196 - categorical_accuracy: 0.9960\n",
            "Epoch 9/10\n",
            "14/14 [==============================] - 4s 252ms/step - loss: 0.0129 - categorical_accuracy: 0.9981\n",
            "Epoch 10/10\n",
            "14/14 [==============================] - 4s 255ms/step - loss: 0.0105 - categorical_accuracy: 0.9984\n",
            "182/182 [==============================] - 1s 6ms/step - loss: 6.1080 - categorical_accuracy: 0.3758\n",
            "Epoch 1/10\n"
          ]
        },
        {
          "output_type": "stream",
          "name": "stderr",
          "text": [
            "/usr/local/lib/python3.7/dist-packages/ipykernel_launcher.py:39: VisibleDeprecationWarning: Creating an ndarray from ragged nested sequences (which is a list-or-tuple of lists-or-tuples-or ndarrays with different lengths or shapes) is deprecated. If you meant to do this, you must specify 'dtype=object' when creating the ndarray.\n",
            "/usr/local/lib/python3.7/dist-packages/ipykernel_launcher.py:40: VisibleDeprecationWarning: Creating an ndarray from ragged nested sequences (which is a list-or-tuple of lists-or-tuples-or ndarrays with different lengths or shapes) is deprecated. If you meant to do this, you must specify 'dtype=object' when creating the ndarray.\n"
          ]
        },
        {
          "output_type": "stream",
          "name": "stdout",
          "text": [
            "14/14 [==============================] - 5s 202ms/step - loss: 1.7386 - categorical_accuracy: 0.2300\n",
            "Epoch 2/10\n",
            "14/14 [==============================] - 2s 173ms/step - loss: 1.5314 - categorical_accuracy: 0.3357\n",
            "Epoch 3/10\n",
            "14/14 [==============================] - 2s 174ms/step - loss: 0.9680 - categorical_accuracy: 0.6324\n",
            "Epoch 4/10\n",
            "14/14 [==============================] - 2s 178ms/step - loss: 0.3775 - categorical_accuracy: 0.9094\n",
            "Epoch 5/10\n",
            "14/14 [==============================] - 2s 178ms/step - loss: 0.0804 - categorical_accuracy: 0.9792\n",
            "Epoch 6/10\n",
            "14/14 [==============================] - 2s 176ms/step - loss: 0.0158 - categorical_accuracy: 0.9979\n",
            "Epoch 7/10\n",
            "14/14 [==============================] - 2s 175ms/step - loss: 0.0039 - categorical_accuracy: 1.0000\n",
            "Epoch 8/10\n",
            "14/14 [==============================] - 2s 176ms/step - loss: 0.0017 - categorical_accuracy: 1.0000\n",
            "Epoch 9/10\n",
            "14/14 [==============================] - 2s 176ms/step - loss: 8.7372e-04 - categorical_accuracy: 1.0000\n",
            "Epoch 10/10\n",
            "14/14 [==============================] - 2s 177ms/step - loss: 5.9714e-04 - categorical_accuracy: 1.0000\n",
            "57/57 [==============================] - 0s 4ms/step - loss: 13.4924 - categorical_accuracy: 0.2103\n"
          ]
        }
      ],
      "source": [
        "results = {}\n",
        "percentage_of_data = [\n",
        "                      # 1,\n",
        "                      # 10,\n",
        "                      50,\n",
        "                      # 100\n",
        "                      ]\n",
        "for cur_percentage in percentage_of_data:\n",
        "  results[cur_percentage] = []\n",
        "  for data_index in range(len(train)):\n",
        "    full_train = train[data_index]\n",
        "    full_test = test[data_index%5]\n",
        "    train_data_length = (len(full_train[0]) * cur_percentage) / 100\n",
        "    X_train = full_train[0][0:(int)(train_data_length)]\n",
        "    Y_train = full_train[1][0:(int)(train_data_length)]\n",
        "    # test_data_length = (len(full_test[0]) * cur_percentage) / 100\n",
        "    # X_test = full_test[0][0:(int)(test_data_length)]\n",
        "    # Y_test = full_test[1][0:(int)(test_data_length)]\n",
        "    X_test = full_test[0]\n",
        "    Y_test = full_test[1]\n",
        "    loss,accuracy = get_accuracy(X_train,Y_train,X_test,Y_test)\n",
        "    cur_list = results.get(cur_percentage)\n",
        "    cur_list.append(accuracy)"
      ]
    },
    {
      "cell_type": "code",
      "execution_count": null,
      "metadata": {
        "id": "KH65VEWw6vKH",
        "colab": {
          "base_uri": "https://localhost:8080/"
        },
        "outputId": "b4eed162-005e-4d5d-b508-e7e9eafdaa2c"
      },
      "outputs": [
        {
          "output_type": "stream",
          "name": "stdout",
          "text": [
            "Percentage of Data :  1\n",
            "cr 0.6607539057731628 0.6607539057731628 0.6607539057731628\n",
            "pc 0.5427144169807434 0.7457802295684814 0.7413020730018616\n",
            "sst2 0.4991762638092041 0.4991762638092041 0.4991762638092041\n",
            "subj 0.5080000162124634 0.5080000162124634 0.5080000162124634\n",
            "trec 0.2759999930858612 0.2919999957084656 0.2759999930858612\n",
            "Percentage of Data :  10\n",
            "cr 0.6607539057731628 0.6585366129875183 0.6917960047721863\n",
            "pc 0.8861522674560547 0.8964864015579224 0.8887357711791992\n",
            "sst2 0.5848435163497925 0.6370126008987427 0.6447007060050964\n",
            "subj 0.7710000276565552 0.7839999794960022 0.765999972820282\n",
            "trec 0.33000001311302185 0.5339999794960022 0.5019999742507935\n",
            "Percentage of Data :  50\n",
            "cr 0.6607539057731628 0.7272727489471436 0.7472283840179443\n",
            "pc 0.9280055165290833 0.9181880950927734 0.9202548861503601\n",
            "sst2 0.7402526140213013 0.7210323810577393 0.7320153713226318\n",
            "subj 0.8429999947547913 0.8450000286102295 0.871999979019165\n",
            "trec 0.2540000081062317 0.5960000157356262 0.5580000281333923\n",
            "Percentage of Data :  100\n",
            "cr 0.6607539057731628 0.6607539057731628 0.6607539057731628\n",
            "pc 0.9261109232902527 0.9323114156723022 0.9326558709144592\n",
            "sst2 0.4991762638092041 0.7523338794708252 0.7891268730163574\n",
            "subj 0.7390000224113464 0.8709999918937683 0.8669999837875366\n",
            "trec 0.18799999356269836 0.4300000071525574 0.5299999713897705\n"
          ]
        }
      ],
      "source": [
        "with open('results.txt','r') as input_file:\n",
        "  res = json.loads(input_file.read())\n",
        "names = ['cr','pc','sst2','subj','trec']\n",
        "for i in ['1','10','50','100']:\n",
        "  print(\"Percentage of Data : \",i)\n",
        "  for j in range(5):\n",
        "    print(names[j],res.get(i)[j],res.get(i)[5+j],res.get(i)[10+j])"
      ]
    },
    {
      "cell_type": "code",
      "execution_count": null,
      "metadata": {
        "id": "kvglUkA4ERW2"
      },
      "outputs": [],
      "source": [
        "# res[1] = results.get(1)\n",
        "# with open('results.txt', 'w') as output_file:\n",
        "#      output_file.write(json.dumps(res))"
      ]
    },
    {
      "cell_type": "code",
      "source": [
        "# importing package\n",
        "import matplotlib.pyplot as plt\n",
        "  \n",
        "# create data\n",
        "x = ['1','10','50','100']\n",
        "for dataset in range(5):\n",
        "  y1,y2,y3 = [],[],[]\n",
        "  for percentage in x:\n",
        "    y1.append(res.get(percentage)[dataset])\n",
        "    y2.append(res.get(percentage)[5+dataset])\n",
        "    y3.append(res.get(percentage)[10+dataset])\n",
        "  plt.plot(x, y1, label = \"ORIGINAL\")\n",
        "  plt.plot(x, y2, label = \"EDA\")\n",
        "  plt.plot(x, y3, label = \"AEDA\")\n",
        "  plt.legend()\n",
        "  plt.show()"
      ],
      "metadata": {
        "colab": {
          "base_uri": "https://localhost:8080/",
          "height": 1000
        },
        "id": "Ng-GCJOLTadc",
        "outputId": "091dedac-7af2-404f-c43c-94e62678b7eb"
      },
      "execution_count": null,
      "outputs": [
        {
          "output_type": "display_data",
          "data": {
            "text/plain": [
              "<Figure size 432x288 with 1 Axes>"
            ],
            "image/png": "[encoded data removed]"
          },
          "metadata": {
            "needs_background": "light"
          }
        },
        {
          "output_type": "display_data",
          "data": {
            "text/plain": [
              "<Figure size 432x288 with 1 Axes>"
            ],
            "image/png": "[encoded data removed]"
          },
          "metadata": {
            "needs_background": "light"
          }
        },
        {
          "output_type": "display_data",
          "data": {
            "text/plain": [
              "<Figure size 432x288 with 1 Axes>"
            ],
            "image/png": "[encoded data removed]"
          },
          "metadata": {
            "needs_background": "light"
          }
        },
        {
          "output_type": "display_data",
          "data": {
            "text/plain": [
              "<Figure size 432x288 with 1 Axes>"
            ],
            "image/png": "[encoded data removed]"
          },
          "metadata": {
            "needs_background": "light"
          }
        },
        {
          "output_type": "display_data",
          "data": {
            "text/plain": [
              "<Figure size 432x288 with 1 Axes>"
            ],
            "image/png": "[encoded data removed]"
          },
          "metadata": {
            "needs_background": "light"
          }
        }
      ]
    }
  ],
  "metadata": {
    "colab": {
      "collapsed_sections": [],
      "name": "AEDA NLP.ipynb",
      "provenance": []
    },
    "kernelspec": {
      "display_name": "Python 3",
      "name": "python3"
    },
    "language_info": {
      "name": "python"
    }
  },
  "nbformat": 4,
  "nbformat_minor": 0
}